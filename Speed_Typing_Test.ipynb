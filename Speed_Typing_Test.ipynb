{
 "cells": [
  {
   "cell_type": "code",
   "execution_count": null,
   "id": "afc36298",
   "metadata": {},
   "outputs": [],
   "source": [
    "import time\n",
    "import random\n",
    "def main():\n",
    "    sentences = [\n",
    "        \"The quick brown fox jumps over the lazy dog.\",\n",
    "        \"Python is a versatile programming language.\",\n",
    "        \"Artificial intelligence is shaping the future.\",\n",
    "        \"Coding is a valuable skill for the 21st century.\",\n",
    "        \"Keep calm and code on.\",\n",
    "    ]\n",
    "    sentence = random.choice(sentences)\n",
    "    print(\"Type the following sentence:\")\n",
    "    print(sentence)\n",
    "    input(\"Press Enter to start...\")\n",
    "    start_time = time.time()\n",
    "    user_input = input(\"Type the sentence: \")\n",
    "    end_time = time.time()\n",
    "    time_taken = end_time - start_time\n",
    "    words_typed = len(user_input.split())\n",
    "    wpm = words_typed / (time_taken / 60) if time_taken > 0 else 0\n",
    "    accuracy = calculate_accuracy(sentence, user_input)\n",
    "    print(\"\\nTyping Speed: {:.2f} WPM\".format(wpm))\n",
    "    print(\"Accuracy: {:.2f}%\".format(accuracy))\n",
    "    print(\"Time taken: {:.2f} seconds\".format(time_taken))\n",
    "def calculate_accuracy(original, user_input):\n",
    "    original = original.split()\n",
    "    user_input = user_input.split()\n",
    "    correct_words = 0\n",
    "    total_words = len(original)\n",
    "    for i in range(len(original)):\n",
    "        if i < len(user_input) and original[i] == user_input[i]:\n",
    "            correct_words += 1\n",
    "    accuracy = (correct_words / total_words) * 100 if total_words > 0 else 0\n",
    "    return accuracy\n",
    "if __name__ == \"__main__\":\n",
    "    main()"
   ]
  },
  {
   "cell_type": "code",
   "execution_count": null,
   "id": "a7ed1cc2",
   "metadata": {},
   "outputs": [],
   "source": []
  }
 ],
 "metadata": {
  "kernelspec": {
   "display_name": "Python 3 (ipykernel)",
   "language": "python",
   "name": "python3"
  },
  "language_info": {
   "codemirror_mode": {
    "name": "ipython",
    "version": 3
   },
   "file_extension": ".py",
   "mimetype": "text/x-python",
   "name": "python",
   "nbconvert_exporter": "python",
   "pygments_lexer": "ipython3",
   "version": "3.9.12"
  }
 },
 "nbformat": 4,
 "nbformat_minor": 5
}
